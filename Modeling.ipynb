{
 "cells": [
  {
   "cell_type": "markdown",
   "id": "bc0e63b93d855019",
   "metadata": {},
   "source": [
    "<div style=\"background-color: #1E90FF; padding: 20px; border-radius: 15px; border-top-right-radius: 50px; border-bottom-left-radius: 50px; text-align: center; font-size: 2em; font-weight: bold; color: #FFFFFF;\">\n",
    "  📘 Introduction\n",
    "</div>"
   ]
  },
  {
   "cell_type": "markdown",
   "id": "a3557b4f6219823e",
   "metadata": {},
   "source": [
    "**This notebook aims to predict the housing price index using a variety of economic indicators extracted from the Federal Reserve Economic Data (FRED). The dataset comprises 412 observations, each representing monthly data from various economic parameters that are found to influence housing prices.**\n",
    "\n",
    "### Dataset Overview\n",
    "\n",
    "The dataset includes the following columns:\n",
    "- **YearMonth:** The month and year of the observation (e.g., '1990-01').\n",
    "- **Federal_Funds_Rate:** The interest rate at which depository institutions trade federal funds with each other overnight .\n",
    "- **Disposable_Income:** The amount of money that households have available for spending and saving after income taxes have been accounted for.\n",
    "- **Housing_Starts:** The number of new residential construction projects that have begun during any particular month.\n",
    "- **Mortgage_Rate:** The interest rate charged on a mortgage.\n",
    "- **Housing_Supply:** The total housing inventory available for sale.\n",
    "- **Residential_Investment:** The amount of money invested in residential construction.\n",
    "- **Unemployment_Rate:** The percentage of the total labor force that is unemployed but actively seeking employment and willing to work.\n",
    "- **Personal_Savings_Rate:** The percentage of disposable income that households save.\n",
    "- **Home_Price:** The price index of homes, serving as our target variable for prediction.\n"
   ]
  },
  {
   "cell_type": "markdown",
   "id": "bd22769e069007d2",
   "metadata": {},
   "source": [
    "<div style=\"background-color: #32CD32; padding: 20px; border-radius: 15px; border-top-right-radius: 50px; border-bottom-left-radius: 50px; text-align: center; font-size: 2em; font-weight: bold; color: #FFFFFF;\">\n",
    "  🛠️ Data Loading and Preparation\n",
    "</div>"
   ]
  },
  {
   "cell_type": "code",
   "execution_count": 88,
   "id": "41377ca2-3342-4bac-881c-a6a5480683e0",
   "metadata": {},
   "outputs": [],
   "source": [
    "import pandas as pd\n",
    "import numpy as np\n",
    "from sklearn.linear_model import Lasso\n",
    "from sklearn.preprocessing import StandardScaler\n",
    "from sklearn.model_selection import train_test_split\n",
    "from sklearn.linear_model import LinearRegression\n",
    "from sklearn.ensemble import RandomForestRegressor\n",
    "from sklearn.metrics import mean_squared_error, r2_score\n",
    "import matplotlib.pyplot as plt\n",
    "import seaborn as sns"
   ]
  },
  {
   "cell_type": "code",
   "execution_count": 32,
   "id": "38da93b2a82ad270",
   "metadata": {
    "ExecuteTime": {
     "end_time": "2024-07-24T15:24:17.372929Z",
     "start_time": "2024-07-24T15:24:17.359676Z"
    }
   },
   "outputs": [],
   "source": [
    "df = pd.read_csv('data/final_data/merged_data.csv')"
   ]
  },
  {
   "cell_type": "code",
   "execution_count": 33,
   "id": "cd01a04266d25def",
   "metadata": {
    "ExecuteTime": {
     "end_time": "2024-07-24T15:24:50.746083Z",
     "start_time": "2024-07-24T15:24:50.738366Z"
    }
   },
   "outputs": [
    {
     "data": {
      "text/plain": [
       "(412, 10)"
      ]
     },
     "execution_count": 33,
     "metadata": {},
     "output_type": "execute_result"
    }
   ],
   "source": [
    "df.shape"
   ]
  },
  {
   "cell_type": "code",
   "execution_count": 34,
   "id": "76c5f832-7aa2-437d-9f16-4851494ef132",
   "metadata": {},
   "outputs": [
    {
     "name": "stdout",
     "output_type": "stream",
     "text": [
      "<class 'pandas.core.frame.DataFrame'>\n",
      "RangeIndex: 412 entries, 0 to 411\n",
      "Data columns (total 10 columns):\n",
      " #   Column                  Non-Null Count  Dtype  \n",
      "---  ------                  --------------  -----  \n",
      " 0   YearMonth               412 non-null    object \n",
      " 1   Federal_Funds_Rate      406 non-null    float64\n",
      " 2   Disposable_Income       412 non-null    float64\n",
      " 3   Housing_Starts          412 non-null    float64\n",
      " 4   Mortgage_Rate           412 non-null    float64\n",
      " 5   Housing_Supply          412 non-null    float64\n",
      " 6   Residential_Investment  376 non-null    float64\n",
      " 7   Unemployment_Rate       412 non-null    float64\n",
      " 8   Personal_Savings_Rate   412 non-null    float64\n",
      " 9   Home_Price              412 non-null    float64\n",
      "dtypes: float64(9), object(1)\n",
      "memory usage: 32.3+ KB\n"
     ]
    }
   ],
   "source": [
    "df.info()"
   ]
  },
  {
   "cell_type": "code",
   "execution_count": 35,
   "id": "5ca56e8115612263",
   "metadata": {
    "ExecuteTime": {
     "end_time": "2024-07-24T15:25:20.886444Z",
     "start_time": "2024-07-24T15:25:20.864147Z"
    }
   },
   "outputs": [
    {
     "data": {
      "text/html": [
       "<div>\n",
       "<style scoped>\n",
       "    .dataframe tbody tr th:only-of-type {\n",
       "        vertical-align: middle;\n",
       "    }\n",
       "\n",
       "    .dataframe tbody tr th {\n",
       "        vertical-align: top;\n",
       "    }\n",
       "\n",
       "    .dataframe thead th {\n",
       "        text-align: right;\n",
       "    }\n",
       "</style>\n",
       "<table border=\"1\" class=\"dataframe\">\n",
       "  <thead>\n",
       "    <tr style=\"text-align: right;\">\n",
       "      <th></th>\n",
       "      <th>YearMonth</th>\n",
       "      <th>Federal_Funds_Rate</th>\n",
       "      <th>Disposable_Income</th>\n",
       "      <th>Housing_Starts</th>\n",
       "      <th>Mortgage_Rate</th>\n",
       "      <th>Housing_Supply</th>\n",
       "      <th>Residential_Investment</th>\n",
       "      <th>Unemployment_Rate</th>\n",
       "      <th>Personal_Savings_Rate</th>\n",
       "      <th>Home_Price</th>\n",
       "    </tr>\n",
       "  </thead>\n",
       "  <tbody>\n",
       "    <tr>\n",
       "      <th>0</th>\n",
       "      <td>1990-01</td>\n",
       "      <td>NaN</td>\n",
       "      <td>7187.4</td>\n",
       "      <td>1100.0</td>\n",
       "      <td>9.8950</td>\n",
       "      <td>7.0</td>\n",
       "      <td>NaN</td>\n",
       "      <td>5.4</td>\n",
       "      <td>7.9</td>\n",
       "      <td>76.897</td>\n",
       "    </tr>\n",
       "    <tr>\n",
       "      <th>1</th>\n",
       "      <td>1990-02</td>\n",
       "      <td>NaN</td>\n",
       "      <td>7203.3</td>\n",
       "      <td>1102.0</td>\n",
       "      <td>10.1975</td>\n",
       "      <td>7.6</td>\n",
       "      <td>NaN</td>\n",
       "      <td>5.3</td>\n",
       "      <td>8.5</td>\n",
       "      <td>77.053</td>\n",
       "    </tr>\n",
       "    <tr>\n",
       "      <th>2</th>\n",
       "      <td>1990-03</td>\n",
       "      <td>NaN</td>\n",
       "      <td>7206.1</td>\n",
       "      <td>971.0</td>\n",
       "      <td>10.2680</td>\n",
       "      <td>7.8</td>\n",
       "      <td>NaN</td>\n",
       "      <td>5.2</td>\n",
       "      <td>8.3</td>\n",
       "      <td>77.201</td>\n",
       "    </tr>\n",
       "    <tr>\n",
       "      <th>3</th>\n",
       "      <td>1990-04</td>\n",
       "      <td>NaN</td>\n",
       "      <td>7253.4</td>\n",
       "      <td>922.0</td>\n",
       "      <td>10.3700</td>\n",
       "      <td>8.3</td>\n",
       "      <td>NaN</td>\n",
       "      <td>5.4</td>\n",
       "      <td>8.7</td>\n",
       "      <td>77.278</td>\n",
       "    </tr>\n",
       "    <tr>\n",
       "      <th>4</th>\n",
       "      <td>1990-05</td>\n",
       "      <td>NaN</td>\n",
       "      <td>7245.8</td>\n",
       "      <td>893.0</td>\n",
       "      <td>10.4775</td>\n",
       "      <td>8.2</td>\n",
       "      <td>NaN</td>\n",
       "      <td>5.4</td>\n",
       "      <td>8.7</td>\n",
       "      <td>77.297</td>\n",
       "    </tr>\n",
       "    <tr>\n",
       "      <th>5</th>\n",
       "      <td>1990-06</td>\n",
       "      <td>NaN</td>\n",
       "      <td>7257.3</td>\n",
       "      <td>885.0</td>\n",
       "      <td>10.1640</td>\n",
       "      <td>7.9</td>\n",
       "      <td>NaN</td>\n",
       "      <td>5.2</td>\n",
       "      <td>8.6</td>\n",
       "      <td>77.258</td>\n",
       "    </tr>\n",
       "    <tr>\n",
       "      <th>6</th>\n",
       "      <td>1990-07</td>\n",
       "      <td>8.152581</td>\n",
       "      <td>7283.7</td>\n",
       "      <td>883.0</td>\n",
       "      <td>10.0350</td>\n",
       "      <td>7.8</td>\n",
       "      <td>NaN</td>\n",
       "      <td>5.5</td>\n",
       "      <td>8.7</td>\n",
       "      <td>77.139</td>\n",
       "    </tr>\n",
       "    <tr>\n",
       "      <th>7</th>\n",
       "      <td>1990-08</td>\n",
       "      <td>8.134194</td>\n",
       "      <td>7239.1</td>\n",
       "      <td>827.0</td>\n",
       "      <td>10.1000</td>\n",
       "      <td>8.2</td>\n",
       "      <td>NaN</td>\n",
       "      <td>5.7</td>\n",
       "      <td>8.1</td>\n",
       "      <td>77.009</td>\n",
       "    </tr>\n",
       "    <tr>\n",
       "      <th>8</th>\n",
       "      <td>1990-09</td>\n",
       "      <td>8.195000</td>\n",
       "      <td>7236.8</td>\n",
       "      <td>858.0</td>\n",
       "      <td>10.1750</td>\n",
       "      <td>8.4</td>\n",
       "      <td>NaN</td>\n",
       "      <td>5.9</td>\n",
       "      <td>8.1</td>\n",
       "      <td>76.849</td>\n",
       "    </tr>\n",
       "    <tr>\n",
       "      <th>9</th>\n",
       "      <td>1990-10</td>\n",
       "      <td>8.112581</td>\n",
       "      <td>7178.7</td>\n",
       "      <td>835.0</td>\n",
       "      <td>10.1775</td>\n",
       "      <td>8.7</td>\n",
       "      <td>NaN</td>\n",
       "      <td>5.9</td>\n",
       "      <td>7.9</td>\n",
       "      <td>76.699</td>\n",
       "    </tr>\n",
       "  </tbody>\n",
       "</table>\n",
       "</div>"
      ],
      "text/plain": [
       "  YearMonth  Federal_Funds_Rate  Disposable_Income  Housing_Starts  \\\n",
       "0   1990-01                 NaN             7187.4          1100.0   \n",
       "1   1990-02                 NaN             7203.3          1102.0   \n",
       "2   1990-03                 NaN             7206.1           971.0   \n",
       "3   1990-04                 NaN             7253.4           922.0   \n",
       "4   1990-05                 NaN             7245.8           893.0   \n",
       "5   1990-06                 NaN             7257.3           885.0   \n",
       "6   1990-07            8.152581             7283.7           883.0   \n",
       "7   1990-08            8.134194             7239.1           827.0   \n",
       "8   1990-09            8.195000             7236.8           858.0   \n",
       "9   1990-10            8.112581             7178.7           835.0   \n",
       "\n",
       "   Mortgage_Rate  Housing_Supply  Residential_Investment  Unemployment_Rate  \\\n",
       "0         9.8950             7.0                     NaN                5.4   \n",
       "1        10.1975             7.6                     NaN                5.3   \n",
       "2        10.2680             7.8                     NaN                5.2   \n",
       "3        10.3700             8.3                     NaN                5.4   \n",
       "4        10.4775             8.2                     NaN                5.4   \n",
       "5        10.1640             7.9                     NaN                5.2   \n",
       "6        10.0350             7.8                     NaN                5.5   \n",
       "7        10.1000             8.2                     NaN                5.7   \n",
       "8        10.1750             8.4                     NaN                5.9   \n",
       "9        10.1775             8.7                     NaN                5.9   \n",
       "\n",
       "   Personal_Savings_Rate  Home_Price  \n",
       "0                    7.9      76.897  \n",
       "1                    8.5      77.053  \n",
       "2                    8.3      77.201  \n",
       "3                    8.7      77.278  \n",
       "4                    8.7      77.297  \n",
       "5                    8.6      77.258  \n",
       "6                    8.7      77.139  \n",
       "7                    8.1      77.009  \n",
       "8                    8.1      76.849  \n",
       "9                    7.9      76.699  "
      ]
     },
     "execution_count": 35,
     "metadata": {},
     "output_type": "execute_result"
    }
   ],
   "source": [
    "df.head(10)"
   ]
  },
  {
   "cell_type": "code",
   "execution_count": 36,
   "id": "6e4e28c9-32c3-4f83-874e-3a3d141f6be9",
   "metadata": {},
   "outputs": [
    {
     "data": {
      "text/html": [
       "<div>\n",
       "<style scoped>\n",
       "    .dataframe tbody tr th:only-of-type {\n",
       "        vertical-align: middle;\n",
       "    }\n",
       "\n",
       "    .dataframe tbody tr th {\n",
       "        vertical-align: top;\n",
       "    }\n",
       "\n",
       "    .dataframe thead th {\n",
       "        text-align: right;\n",
       "    }\n",
       "</style>\n",
       "<table border=\"1\" class=\"dataframe\">\n",
       "  <thead>\n",
       "    <tr style=\"text-align: right;\">\n",
       "      <th></th>\n",
       "      <th>YearMonth</th>\n",
       "      <th>Federal_Funds_Rate</th>\n",
       "      <th>Disposable_Income</th>\n",
       "      <th>Housing_Starts</th>\n",
       "      <th>Mortgage_Rate</th>\n",
       "      <th>Housing_Supply</th>\n",
       "      <th>Residential_Investment</th>\n",
       "      <th>Unemployment_Rate</th>\n",
       "      <th>Personal_Savings_Rate</th>\n",
       "      <th>Home_Price</th>\n",
       "    </tr>\n",
       "  </thead>\n",
       "  <tbody>\n",
       "    <tr>\n",
       "      <th>307</th>\n",
       "      <td>2015-08</td>\n",
       "      <td>0.138065</td>\n",
       "      <td>13935.8</td>\n",
       "      <td>734.0</td>\n",
       "      <td>3.905</td>\n",
       "      <td>5.0</td>\n",
       "      <td>439616.0</td>\n",
       "      <td>5.1</td>\n",
       "      <td>5.6</td>\n",
       "      <td>172.930</td>\n",
       "    </tr>\n",
       "    <tr>\n",
       "      <th>80</th>\n",
       "      <td>1996-09</td>\n",
       "      <td>5.299000</td>\n",
       "      <td>8483.9</td>\n",
       "      <td>1148.0</td>\n",
       "      <td>8.230</td>\n",
       "      <td>5.2</td>\n",
       "      <td>265677.0</td>\n",
       "      <td>5.2</td>\n",
       "      <td>6.4</td>\n",
       "      <td>83.256</td>\n",
       "    </tr>\n",
       "    <tr>\n",
       "      <th>263</th>\n",
       "      <td>2011-12</td>\n",
       "      <td>0.071613</td>\n",
       "      <td>12898.5</td>\n",
       "      <td>522.0</td>\n",
       "      <td>3.958</td>\n",
       "      <td>5.3</td>\n",
       "      <td>247983.0</td>\n",
       "      <td>8.5</td>\n",
       "      <td>7.2</td>\n",
       "      <td>136.672</td>\n",
       "    </tr>\n",
       "    <tr>\n",
       "      <th>147</th>\n",
       "      <td>2002-04</td>\n",
       "      <td>1.753000</td>\n",
       "      <td>10574.2</td>\n",
       "      <td>1277.0</td>\n",
       "      <td>6.985</td>\n",
       "      <td>4.3</td>\n",
       "      <td>398990.0</td>\n",
       "      <td>5.9</td>\n",
       "      <td>5.4</td>\n",
       "      <td>119.611</td>\n",
       "    </tr>\n",
       "    <tr>\n",
       "      <th>105</th>\n",
       "      <td>1998-10</td>\n",
       "      <td>5.070968</td>\n",
       "      <td>9337.5</td>\n",
       "      <td>1298.0</td>\n",
       "      <td>6.710</td>\n",
       "      <td>4.0</td>\n",
       "      <td>308127.0</td>\n",
       "      <td>4.5</td>\n",
       "      <td>5.9</td>\n",
       "      <td>91.717</td>\n",
       "    </tr>\n",
       "  </tbody>\n",
       "</table>\n",
       "</div>"
      ],
      "text/plain": [
       "    YearMonth  Federal_Funds_Rate  Disposable_Income  Housing_Starts  \\\n",
       "307   2015-08            0.138065            13935.8           734.0   \n",
       "80    1996-09            5.299000             8483.9          1148.0   \n",
       "263   2011-12            0.071613            12898.5           522.0   \n",
       "147   2002-04            1.753000            10574.2          1277.0   \n",
       "105   1998-10            5.070968             9337.5          1298.0   \n",
       "\n",
       "     Mortgage_Rate  Housing_Supply  Residential_Investment  Unemployment_Rate  \\\n",
       "307          3.905             5.0                439616.0                5.1   \n",
       "80           8.230             5.2                265677.0                5.2   \n",
       "263          3.958             5.3                247983.0                8.5   \n",
       "147          6.985             4.3                398990.0                5.9   \n",
       "105          6.710             4.0                308127.0                4.5   \n",
       "\n",
       "     Personal_Savings_Rate  Home_Price  \n",
       "307                    5.6     172.930  \n",
       "80                     6.4      83.256  \n",
       "263                    7.2     136.672  \n",
       "147                    5.4     119.611  \n",
       "105                    5.9      91.717  "
      ]
     },
     "execution_count": 36,
     "metadata": {},
     "output_type": "execute_result"
    }
   ],
   "source": [
    "df.sample(5)"
   ]
  },
  {
   "cell_type": "code",
   "execution_count": 37,
   "id": "312526365fe49fe0",
   "metadata": {
    "ExecuteTime": {
     "end_time": "2024-07-24T15:25:52.194097Z",
     "start_time": "2024-07-24T15:25:52.182574Z"
    }
   },
   "outputs": [
    {
     "data": {
      "text/plain": [
       "YearMonth                  0\n",
       "Federal_Funds_Rate         6\n",
       "Disposable_Income          0\n",
       "Housing_Starts             0\n",
       "Mortgage_Rate              0\n",
       "Housing_Supply             0\n",
       "Residential_Investment    36\n",
       "Unemployment_Rate          0\n",
       "Personal_Savings_Rate      0\n",
       "Home_Price                 0\n",
       "dtype: int64"
      ]
     },
     "execution_count": 37,
     "metadata": {},
     "output_type": "execute_result"
    }
   ],
   "source": [
    "df.isnull().sum()"
   ]
  },
  {
   "cell_type": "code",
   "execution_count": 38,
   "id": "b58caecf-4b1b-49e6-b8d2-119f62f813ec",
   "metadata": {},
   "outputs": [],
   "source": [
    "df['Year'] = df['YearMonth'].apply(lambda x: int(x.split('-')[0]))\n",
    "df['Month'] = df['YearMonth'].apply(lambda x: int(x.split('-')[1]))"
   ]
  },
  {
   "cell_type": "code",
   "execution_count": 39,
   "id": "4031a308-4b6a-4934-99af-98449029dd15",
   "metadata": {},
   "outputs": [],
   "source": [
    "df['YearMonth'] = pd.to_datetime(df['YearMonth'], format='%Y-%m')\n",
    "df['TimeIndex'] = (df['YearMonth'] - df['YearMonth'].min()).dt.days // 30 "
   ]
  },
  {
   "cell_type": "code",
   "execution_count": 40,
   "id": "80e49b37-cf00-4dc6-a6cf-5a5142957980",
   "metadata": {},
   "outputs": [],
   "source": [
    "df['Quarter'] = df['YearMonth'].dt.quarter"
   ]
  },
  {
   "cell_type": "code",
   "execution_count": 41,
   "id": "71b88080-c2dd-432b-9a92-ffe20579181b",
   "metadata": {},
   "outputs": [],
   "source": [
    "df['Lag1'] = df['Home_Price'].shift(1)\n",
    "df['Lag3'] = df['Home_Price'].shift(3)\n",
    "df['Lag12'] = df['Home_Price'].shift(12)"
   ]
  },
  {
   "cell_type": "code",
   "execution_count": 42,
   "id": "fde4718f-99eb-42fa-82c7-258dec9ac08b",
   "metadata": {},
   "outputs": [],
   "source": [
    "df['RollingMean_3'] = df['Home_Price'].rolling(window=3).mean()\n",
    "df['RollingStd_3'] = df['Home_Price'].rolling(window=3).std()"
   ]
  },
  {
   "cell_type": "code",
   "execution_count": 48,
   "id": "726af312-be18-4803-8abb-cc993f9b39fc",
   "metadata": {},
   "outputs": [
    {
     "name": "stderr",
     "output_type": "stream",
     "text": [
      "/var/folders/72/ccsnl5md2qqfq7m1n6bqs28h0000gn/T/ipykernel_22464/2615397645.py:1: FutureWarning: A value is trying to be set on a copy of a DataFrame or Series through chained assignment using an inplace method.\n",
      "The behavior will change in pandas 3.0. This inplace method will never work because the intermediate object on which we are setting values always behaves as a copy.\n",
      "\n",
      "For example, when doing 'df[col].method(value, inplace=True)', try using 'df.method({col: value}, inplace=True)' or df[col] = df[col].method(value) instead, to perform the operation inplace on the original object.\n",
      "\n",
      "\n",
      "  df['Residential_Investment'].fillna(method='bfill', inplace=True)\n",
      "/var/folders/72/ccsnl5md2qqfq7m1n6bqs28h0000gn/T/ipykernel_22464/2615397645.py:1: FutureWarning: Series.fillna with 'method' is deprecated and will raise in a future version. Use obj.ffill() or obj.bfill() instead.\n",
      "  df['Residential_Investment'].fillna(method='bfill', inplace=True)\n",
      "/var/folders/72/ccsnl5md2qqfq7m1n6bqs28h0000gn/T/ipykernel_22464/2615397645.py:2: FutureWarning: A value is trying to be set on a copy of a DataFrame or Series through chained assignment using an inplace method.\n",
      "The behavior will change in pandas 3.0. This inplace method will never work because the intermediate object on which we are setting values always behaves as a copy.\n",
      "\n",
      "For example, when doing 'df[col].method(value, inplace=True)', try using 'df.method({col: value}, inplace=True)' or df[col] = df[col].method(value) instead, to perform the operation inplace on the original object.\n",
      "\n",
      "\n",
      "  df['Federal_Funds_Rate'].fillna(method='bfill', inplace=True)\n",
      "/var/folders/72/ccsnl5md2qqfq7m1n6bqs28h0000gn/T/ipykernel_22464/2615397645.py:2: FutureWarning: Series.fillna with 'method' is deprecated and will raise in a future version. Use obj.ffill() or obj.bfill() instead.\n",
      "  df['Federal_Funds_Rate'].fillna(method='bfill', inplace=True)\n"
     ]
    }
   ],
   "source": [
    "df['Residential_Investment'].fillna(method='bfill', inplace=True)\n",
    "df['Federal_Funds_Rate'].fillna(method='bfill', inplace=True)"
   ]
  },
  {
   "cell_type": "code",
   "execution_count": 49,
   "id": "79730899-a15c-4f1e-8e2c-ba0afbd02a47",
   "metadata": {},
   "outputs": [
    {
     "name": "stdout",
     "output_type": "stream",
     "text": [
      "<class 'pandas.core.frame.DataFrame'>\n",
      "RangeIndex: 412 entries, 0 to 411\n",
      "Data columns (total 19 columns):\n",
      " #   Column                  Non-Null Count  Dtype         \n",
      "---  ------                  --------------  -----         \n",
      " 0   YearMonth               412 non-null    datetime64[ns]\n",
      " 1   Federal_Funds_Rate      412 non-null    float64       \n",
      " 2   Disposable_Income       412 non-null    float64       \n",
      " 3   Housing_Starts          412 non-null    float64       \n",
      " 4   Mortgage_Rate           412 non-null    float64       \n",
      " 5   Housing_Supply          412 non-null    float64       \n",
      " 6   Residential_Investment  412 non-null    float64       \n",
      " 7   Unemployment_Rate       412 non-null    float64       \n",
      " 8   Personal_Savings_Rate   412 non-null    float64       \n",
      " 9   Home_Price              412 non-null    float64       \n",
      " 10  Year                    412 non-null    int64         \n",
      " 11  Month                   412 non-null    int64         \n",
      " 12  TimeIndex               412 non-null    int64         \n",
      " 13  Quarter                 412 non-null    int32         \n",
      " 14  Lag1                    411 non-null    float64       \n",
      " 15  Lag3                    409 non-null    float64       \n",
      " 16  Lag12                   400 non-null    float64       \n",
      " 17  RollingMean_3           410 non-null    float64       \n",
      " 18  RollingStd_3            410 non-null    float64       \n",
      "dtypes: datetime64[ns](1), float64(14), int32(1), int64(3)\n",
      "memory usage: 59.7 KB\n"
     ]
    }
   ],
   "source": [
    "df.info()"
   ]
  },
  {
   "cell_type": "code",
   "execution_count": 56,
   "id": "f564baf1-879c-4c81-89a1-d6b97d9b89ee",
   "metadata": {},
   "outputs": [],
   "source": [
    "df = df.dropna()"
   ]
  },
  {
   "cell_type": "code",
   "execution_count": 57,
   "id": "c9923710-4bf1-4f2f-9f22-e7ca74bafd72",
   "metadata": {},
   "outputs": [
    {
     "data": {
      "text/plain": [
       "YearMonth                 0\n",
       "Federal_Funds_Rate        0\n",
       "Disposable_Income         0\n",
       "Housing_Starts            0\n",
       "Mortgage_Rate             0\n",
       "Housing_Supply            0\n",
       "Residential_Investment    0\n",
       "Unemployment_Rate         0\n",
       "Personal_Savings_Rate     0\n",
       "Home_Price                0\n",
       "Year                      0\n",
       "Month                     0\n",
       "TimeIndex                 0\n",
       "Quarter                   0\n",
       "Lag1                      0\n",
       "Lag3                      0\n",
       "Lag12                     0\n",
       "RollingMean_3             0\n",
       "RollingStd_3              0\n",
       "dtype: int64"
      ]
     },
     "execution_count": 57,
     "metadata": {},
     "output_type": "execute_result"
    }
   ],
   "source": [
    "df.isnull().sum()"
   ]
  },
  {
   "cell_type": "code",
   "execution_count": 58,
   "id": "3d34e784-069a-4840-ac03-afcb9625d177",
   "metadata": {},
   "outputs": [
    {
     "data": {
      "text/html": [
       "<div>\n",
       "<style scoped>\n",
       "    .dataframe tbody tr th:only-of-type {\n",
       "        vertical-align: middle;\n",
       "    }\n",
       "\n",
       "    .dataframe tbody tr th {\n",
       "        vertical-align: top;\n",
       "    }\n",
       "\n",
       "    .dataframe thead th {\n",
       "        text-align: right;\n",
       "    }\n",
       "</style>\n",
       "<table border=\"1\" class=\"dataframe\">\n",
       "  <thead>\n",
       "    <tr style=\"text-align: right;\">\n",
       "      <th></th>\n",
       "      <th>YearMonth</th>\n",
       "      <th>Federal_Funds_Rate</th>\n",
       "      <th>Disposable_Income</th>\n",
       "      <th>Housing_Starts</th>\n",
       "      <th>Mortgage_Rate</th>\n",
       "      <th>Housing_Supply</th>\n",
       "      <th>Residential_Investment</th>\n",
       "      <th>Unemployment_Rate</th>\n",
       "      <th>Personal_Savings_Rate</th>\n",
       "      <th>Home_Price</th>\n",
       "      <th>Year</th>\n",
       "      <th>Month</th>\n",
       "      <th>TimeIndex</th>\n",
       "      <th>Quarter</th>\n",
       "      <th>Lag1</th>\n",
       "      <th>Lag3</th>\n",
       "      <th>Lag12</th>\n",
       "      <th>RollingMean_3</th>\n",
       "      <th>RollingStd_3</th>\n",
       "    </tr>\n",
       "  </thead>\n",
       "  <tbody>\n",
       "    <tr>\n",
       "      <th>236</th>\n",
       "      <td>2009-09-01</td>\n",
       "      <td>0.146667</td>\n",
       "      <td>12230.6</td>\n",
       "      <td>510.0</td>\n",
       "      <td>5.0575</td>\n",
       "      <td>7.8</td>\n",
       "      <td>254135.0</td>\n",
       "      <td>9.8</td>\n",
       "      <td>5.5</td>\n",
       "      <td>148.024</td>\n",
       "      <td>2009</td>\n",
       "      <td>9</td>\n",
       "      <td>239</td>\n",
       "      <td>3</td>\n",
       "      <td>148.277</td>\n",
       "      <td>148.088</td>\n",
       "      <td>160.307</td>\n",
       "      <td>148.236333</td>\n",
       "      <td>0.195203</td>\n",
       "    </tr>\n",
       "    <tr>\n",
       "      <th>241</th>\n",
       "      <td>2010-02-01</td>\n",
       "      <td>0.126429</td>\n",
       "      <td>12292.0</td>\n",
       "      <td>526.0</td>\n",
       "      <td>4.9900</td>\n",
       "      <td>8.3</td>\n",
       "      <td>255121.0</td>\n",
       "      <td>9.8</td>\n",
       "      <td>5.3</td>\n",
       "      <td>145.631</td>\n",
       "      <td>2010</td>\n",
       "      <td>2</td>\n",
       "      <td>244</td>\n",
       "      <td>1</td>\n",
       "      <td>147.396</td>\n",
       "      <td>148.136</td>\n",
       "      <td>150.014</td>\n",
       "      <td>146.985667</td>\n",
       "      <td>1.203175</td>\n",
       "    </tr>\n",
       "    <tr>\n",
       "      <th>203</th>\n",
       "      <td>2006-12-01</td>\n",
       "      <td>5.238065</td>\n",
       "      <td>11958.6</td>\n",
       "      <td>1249.0</td>\n",
       "      <td>6.1350</td>\n",
       "      <td>6.5</td>\n",
       "      <td>545011.0</td>\n",
       "      <td>4.4</td>\n",
       "      <td>2.6</td>\n",
       "      <td>184.138</td>\n",
       "      <td>2006</td>\n",
       "      <td>12</td>\n",
       "      <td>205</td>\n",
       "      <td>4</td>\n",
       "      <td>183.608</td>\n",
       "      <td>182.798</td>\n",
       "      <td>180.910</td>\n",
       "      <td>183.647667</td>\n",
       "      <td>0.471752</td>\n",
       "    </tr>\n",
       "    <tr>\n",
       "      <th>238</th>\n",
       "      <td>2009-11-01</td>\n",
       "      <td>0.119000</td>\n",
       "      <td>12224.4</td>\n",
       "      <td>497.0</td>\n",
       "      <td>4.8750</td>\n",
       "      <td>7.6</td>\n",
       "      <td>255941.0</td>\n",
       "      <td>9.9</td>\n",
       "      <td>5.5</td>\n",
       "      <td>148.136</td>\n",
       "      <td>2009</td>\n",
       "      <td>11</td>\n",
       "      <td>241</td>\n",
       "      <td>4</td>\n",
       "      <td>147.850</td>\n",
       "      <td>148.277</td>\n",
       "      <td>156.141</td>\n",
       "      <td>148.003333</td>\n",
       "      <td>0.144116</td>\n",
       "    </tr>\n",
       "  </tbody>\n",
       "</table>\n",
       "</div>"
      ],
      "text/plain": [
       "     YearMonth  Federal_Funds_Rate  Disposable_Income  Housing_Starts  \\\n",
       "236 2009-09-01            0.146667            12230.6           510.0   \n",
       "241 2010-02-01            0.126429            12292.0           526.0   \n",
       "203 2006-12-01            5.238065            11958.6          1249.0   \n",
       "238 2009-11-01            0.119000            12224.4           497.0   \n",
       "\n",
       "     Mortgage_Rate  Housing_Supply  Residential_Investment  Unemployment_Rate  \\\n",
       "236         5.0575             7.8                254135.0                9.8   \n",
       "241         4.9900             8.3                255121.0                9.8   \n",
       "203         6.1350             6.5                545011.0                4.4   \n",
       "238         4.8750             7.6                255941.0                9.9   \n",
       "\n",
       "     Personal_Savings_Rate  Home_Price  Year  Month  TimeIndex  Quarter  \\\n",
       "236                    5.5     148.024  2009      9        239        3   \n",
       "241                    5.3     145.631  2010      2        244        1   \n",
       "203                    2.6     184.138  2006     12        205        4   \n",
       "238                    5.5     148.136  2009     11        241        4   \n",
       "\n",
       "        Lag1     Lag3    Lag12  RollingMean_3  RollingStd_3  \n",
       "236  148.277  148.088  160.307     148.236333      0.195203  \n",
       "241  147.396  148.136  150.014     146.985667      1.203175  \n",
       "203  183.608  182.798  180.910     183.647667      0.471752  \n",
       "238  147.850  148.277  156.141     148.003333      0.144116  "
      ]
     },
     "execution_count": 58,
     "metadata": {},
     "output_type": "execute_result"
    }
   ],
   "source": [
    "df.sample(4)"
   ]
  },
  {
   "cell_type": "code",
   "execution_count": 59,
   "id": "555b1db41d2ebf0f",
   "metadata": {
    "ExecuteTime": {
     "end_time": "2024-07-24T12:29:47.554377Z",
     "start_time": "2024-07-24T12:29:47.541865Z"
    }
   },
   "outputs": [],
   "source": [
    "X = df.drop(columns=['YearMonth','Home_Price'],axis=1)\n",
    "y = df['Home_Price']"
   ]
  },
  {
   "cell_type": "code",
   "execution_count": 60,
   "id": "eecc99caf3e4364a",
   "metadata": {
    "ExecuteTime": {
     "end_time": "2024-07-24T12:30:01.071093Z",
     "start_time": "2024-07-24T12:30:01.058369Z"
    }
   },
   "outputs": [],
   "source": [
    "X_train, X_test, y_train, y_test = train_test_split(X, y, test_size=0.2, random_state=42)"
   ]
  },
  {
   "cell_type": "code",
   "execution_count": 65,
   "id": "9ccb12b1-8245-47a3-b00c-9f2fe6476d8d",
   "metadata": {},
   "outputs": [],
   "source": [
    "scaler = StandardScaler()\n",
    "X_train_scaled = scaler.fit_transform(X_train)\n",
    "X_test_scaled = scaler.transform(X_test)"
   ]
  },
  {
   "cell_type": "markdown",
   "id": "706d4d398e0ae0b4",
   "metadata": {},
   "source": [
    "\n",
    "<div style=\"background-color: #FFD700; padding: 20px; border-radius: 15px; border-top-right-radius: 50px; border-bottom-left-radius: 50px; text-align: center; font-size: 2em; font-weight: bold; color: #FFFFFF;\">\n",
    "  🧩 Model Building\n",
    "</div>"
   ]
  },
  {
   "cell_type": "code",
   "execution_count": 75,
   "id": "5b77a33cf4f66359",
   "metadata": {
    "ExecuteTime": {
     "end_time": "2024-07-24T12:31:13.990690Z",
     "start_time": "2024-07-24T12:31:13.971073Z"
    }
   },
   "outputs": [],
   "source": [
    "lin_reg = LinearRegression()\n",
    "lin_reg.fit(X_train_scaled, y_train)\n",
    "y_pred_lin = lin_reg.predict(X_test_scaled)"
   ]
  },
  {
   "cell_type": "code",
   "execution_count": 76,
   "id": "92e2fa78a9a6aeda",
   "metadata": {
    "ExecuteTime": {
     "end_time": "2024-07-24T12:31:30.970756Z",
     "start_time": "2024-07-24T12:31:30.897126Z"
    }
   },
   "outputs": [],
   "source": [
    "rf_reg = RandomForestRegressor(n_estimators=100, random_state=42)\n",
    "rf_reg.fit(X_train_scaled, y_train)\n",
    "y_pred_rf = rf_reg.predict(X_test_scaled)"
   ]
  },
  {
   "cell_type": "code",
   "execution_count": 79,
   "id": "8df78798-d2f3-463c-a81a-b9d229168f45",
   "metadata": {},
   "outputs": [],
   "source": [
    "lasso = Lasso(alpha=0.1)\n",
    "lasso.fit(X_train_scaled, y_train)\n",
    "y_pred = lasso.predict(X_test_scaled)"
   ]
  },
  {
   "cell_type": "markdown",
   "id": "d8338cefcc3a89f8",
   "metadata": {},
   "source": [
    "<div style=\"background-color: #FF69B4; padding: 20px; border-radius: 15px; border-top-right-radius: 50px; border-bottom-left-radius: 50px; text-align: center; font-size: 2em; font-weight: bold; color: #FFFFFF;\">\n",
    "  📊 Model Results\n",
    "</div>"
   ]
  },
  {
   "cell_type": "code",
   "execution_count": 80,
   "id": "7a51e6cfbb251441",
   "metadata": {
    "ExecuteTime": {
     "end_time": "2024-07-24T12:31:49.567940Z",
     "start_time": "2024-07-24T12:31:49.559663Z"
    }
   },
   "outputs": [
    {
     "name": "stdout",
     "output_type": "stream",
     "text": [
      "Linear Regression - MSE: 0.06222331201167388, R2: 0.9999883727550746\n",
      "Random Forest Regressor - MSE: 1.079887384478823, R2: 0.9997982088271222\n",
      "Lasso Linear Regressor - MSE: 0.30471491363140035, R2: 0.999943060007276\n"
     ]
    }
   ],
   "source": [
    "def evaluate_model(y_true, y_pred, model_name):\n",
    "    mse = mean_squared_error(y_true, y_pred)\n",
    "    r2 = r2_score(y_true, y_pred)\n",
    "    print(f\"{model_name} - MSE: {mse}, R2: {r2}\")\n",
    "\n",
    "evaluate_model(y_test, y_pred_lin, 'Linear Regression')\n",
    "evaluate_model(y_test, y_pred_rf, 'Random Forest Regressor')\n",
    "evaluate_model(y_test, y_pred, 'Lasso Linear Regressor')"
   ]
  },
  {
   "cell_type": "code",
   "execution_count": 81,
   "id": "7a968e9e-b4d2-4881-8592-31e5f303d323",
   "metadata": {},
   "outputs": [
    {
     "data": {
      "image/png": "[encoded data removed]",
      "text/plain": [
       "<Figure size 800x400 with 1 Axes>"
      ]
     },
     "metadata": {},
     "output_type": "display_data"
    }
   ],
   "source": [
    "feature_importance = pd.DataFrame({'Feature': X.columns, 'Importance': lasso.coef_})\n",
    "feature_importance = feature_importance[feature_importance['Importance'] != 0]\n",
    "feature_importance = feature_importance.sort_values(by='Importance', ascending=False)\n",
    "\n",
    "plt.figure(figsize=(8, 4))\n",
    "plt.barh(feature_importance['Feature'], feature_importance['Importance'])\n",
    "plt.xlabel('Importance')\n",
    "plt.ylabel('Feature')\n",
    "plt.title('Feature Importance using Lasso Regression')\n",
    "plt.show()"
   ]
  },
  {
   "cell_type": "markdown",
   "id": "8be11f21-a1b8-4d99-845f-39f7e07c2120",
   "metadata": {},
   "source": [
    "### Feature Importance Results\n",
    "\n",
    "The Lasso Regression model identified the following features as the most important for predicting the housing price index:\n",
    "\n",
    "- **Lag1:** Importance = 51.72\n",
    "- **RollingMean_3:** Importance = 6.33\n",
    "- **Residential_Investment:** Importance = 1.02\n",
    "- **TimeIndex:** Importance = 0.56\n",
    "- **RollingStd_3:** Importance = 0.49\n",
    "- **Personal_Savings_Rate:** Importance = 0.05\n",
    "- **Housing_Supply:** Importance = -0.29\n",
    "\n",
    "### Interpretation\n",
    "\n",
    "- **Lag1:** The value from the previous time period is the most significant predictor of the housing price index.\n",
    "- **RollingMean_3:** The 3-period rolling mean of the housing price index also plays a significant role.\n",
    "- **Residential_Investment:** Investment in residential properties is another critical factor.\n",
    "- **TimeIndex:** The time index, which could be an ordinal representation of time, shows moderate importance.\n",
    "- **RollingStd_3:** The 3-period rolling standard deviation indicates some variability in the housing prices.\n",
    "- **Personal_Savings_Rate:** The rate at which households save their disposable income shows minor importance.\n",
    "- **Housing_Supply:** The total housing inventory available for sale negatively impacts the housing price index slightly.\n",
    "\n",
    "**The Lasso Regression model has successfully identified the key features influencing the housing price index, providing insights into the most significant economic indicators.**\n"
   ]
  },
  {
   "cell_type": "markdown",
   "id": "38e453699b243897",
   "metadata": {},
   "source": [
    "<div style=\"background-color: #FF4500; padding: 20px; border-radius: 15px; border-top-right-radius: 50px; border-bottom-left-radius: 50px; text-align: center; font-size: 2em; font-weight: bold; color: #FFFFFF;\">\n",
    "  📝 Conclusion\n",
    "</div>"
   ]
  },
  {
   "cell_type": "markdown",
   "id": "aa83072cc67ae146",
   "metadata": {},
   "source": [
    "### Linear Regression\n",
    "- **MSE:** 0.062\n",
    "- **R2:** 0.99999\n",
    "\n",
    "### Random Forest Regressor\n",
    "- **MSE:** 1.072\n",
    "- **R2:** 0.99980\n",
    "\n",
    "### Interpretation\n",
    "- **Mean Squared Error (MSE):** This metric measures the average of the squares of the errors, i.e., the average squared difference between the actual and predicted values. Lower MSE values indicate better model performance. The Linear Regression model has a significantly lower MSE than the Random Forest Regressor, suggesting that its predictions are closer to the actual values.\n",
    "- **R-squared (R2):** This metric indicates the proportion of the variance in the dependent variable that is predictable from the independent variables. R2 values range from 0 to 1, with higher values indicating better model performance. Both models have extremely high R2 values, but the Linear Regression model has a slightly higher R2, indicating a better fit to the data.\n",
    "\n",
    "### Model Comparison\n",
    "- **Linear Regression:** The exceptionally high R2 value (0.99999) and very low MSE (0.062) suggest that the Linear Regression model explains nearly 100% of the variance in the home prices and has an extremely low prediction error. This is an outstanding performance for a simple model.\n",
    "- **Random Forest Regressor:** Although the Random Forest model also performs very well, with an R2 value of 0.99980 and an MSE of 1.072, it does not perform as well as the Linear Regression model. The higher complexity of Random Forest might not be necessary for this dataset, especially considering that it results in higher prediction errors compared to Linear Regression.\n",
    "\n",
    "### Conclusion\n",
    "Given these results, the Linear Regression model is the better choice for this task. It provides a high level of explanatory power and lower prediction error."
   ]
  }
 ],
 "metadata": {
  "kernelspec": {
   "display_name": "Python 3 (ipykernel)",
   "language": "python",
   "name": "python3"
  },
  "language_info": {
   "codemirror_mode": {
    "name": "ipython",
    "version": 3
   },
   "file_extension": ".py",
   "mimetype": "text/x-python",
   "name": "python",
   "nbconvert_exporter": "python",
   "pygments_lexer": "ipython3",
   "version": "3.11.5"
  }
 },
 "nbformat": 4,
 "nbformat_minor": 5
}
